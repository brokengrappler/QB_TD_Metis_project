{
 "cells": [
  {
   "cell_type": "code",
   "execution_count": 330,
   "metadata": {},
   "outputs": [],
   "source": [
    "import requests\n",
    "import time, os\n",
    "import random\n",
    "from fake_useragent import UserAgent\n",
    "from bs4 import BeautifulSoup\n",
    "from IPython.core.display import display, HTML\n",
    "from collections import defaultdict\n",
    "import csv"
   ]
  },
  {
   "cell_type": "code",
   "execution_count": 329,
   "metadata": {},
   "outputs": [
    {
     "data": {
      "text/plain": [
       "'\\nfrom selenium import webdriver\\nfrom selenium.webdriver.common.keys import Keys\\nfrom selenium.webdriver.common.action_chains import ActionChains\\n\\nchromedriver = \"/Applications/chromedriver\" # path to the chromedriver executable\\nos.environ[\"webdriver.chrome.driver\"] = chromedriver\\n'"
      ]
     },
     "execution_count": 329,
     "metadata": {},
     "output_type": "execute_result"
    }
   ],
   "source": [
    "'''\n",
    "from selenium import webdriver\n",
    "from selenium.webdriver.common.keys import Keys\n",
    "from selenium.webdriver.common.action_chains import ActionChains\n",
    "\n",
    "chromedriver = \"/Applications/chromedriver\" # path to the chromedriver executable\n",
    "os.environ[\"webdriver.chrome.driver\"] = chromedriver\n",
    "'''"
   ]
  },
  {
   "cell_type": "code",
   "execution_count": 101,
   "metadata": {},
   "outputs": [],
   "source": [
    "base_url = 'https://www.pro-football-reference.com/'\n",
    "\n",
    "#scrape Jared Goff first\n",
    "player = 'players/G/GoffJa00.htm'"
   ]
  },
  {
   "cell_type": "code",
   "execution_count": 7,
   "metadata": {},
   "outputs": [],
   "source": [
    "# Trying to look human\n",
    "ua = UserAgent()\n",
    "user_agent = {'User-agent' : ua.random}"
   ]
  },
  {
   "cell_type": "code",
   "execution_count": 115,
   "metadata": {},
   "outputs": [],
   "source": [
    "response = requests.get(base_url + player, headers = user_agent)\n",
    "soup = BeautifulSoup(response.text, 'lxml')"
   ]
  },
  {
   "cell_type": "code",
   "execution_count": 318,
   "metadata": {},
   "outputs": [],
   "source": [
    "big_table = soup.find_all('table', {'id':'passing'})"
   ]
  },
  {
   "cell_type": "code",
   "execution_count": 323,
   "metadata": {},
   "outputs": [],
   "source": [
    "test = get_headers(big_table)"
   ]
  },
  {
   "cell_type": "code",
   "execution_count": 282,
   "metadata": {},
   "outputs": [
    {
     "data": {
      "text/plain": [
       "<tr class=\"full_table\" id=\"passing.2017\"><th class=\"left\" data-stat=\"year_id\" scope=\"row\"><a href=\"/years/2017/\">2017</a>*</th><td class=\"right\" data-stat=\"age\">23</td><td class=\"left\" data-stat=\"team\"><a href=\"/teams/ram/2017.htm\" title=\"Los Angeles Rams\">LAR</a></td><td class=\"left\" data-stat=\"pos\">QB</td><td class=\"right\" data-stat=\"uniform_number\">16</td><td class=\"right\" data-stat=\"g\">15</td><td class=\"right\" data-stat=\"gs\">15</td><td class=\"right\" csk=\"0.73333\" data-stat=\"qb_rec\">11-4-0</td><td class=\"right\" data-stat=\"pass_cmp\">296</td><td class=\"right\" data-stat=\"pass_att\">477</td><td class=\"right\" data-stat=\"pass_cmp_perc\">62.1</td><td class=\"right\" data-stat=\"pass_yds\">3804</td><td class=\"right\" data-stat=\"pass_td\">28</td><td class=\"right\" data-stat=\"pass_td_perc\">5.9</td><td class=\"right\" data-stat=\"pass_int\">7</td><td class=\"right\" data-stat=\"pass_int_perc\">1.5</td><td class=\"right\" data-stat=\"pass_first_down\">177</td><td class=\"right\" data-stat=\"pass_long\">94</td><td class=\"right\" data-stat=\"pass_yds_per_att\">8.0</td><td class=\"right\" data-stat=\"pass_adj_yds_per_att\">8.5</td><td class=\"right\" data-stat=\"pass_yds_per_cmp\"><strong>12.9</strong></td><td class=\"right\" data-stat=\"pass_yds_per_g\">253.6</td><td class=\"right\" data-stat=\"pass_rating\">100.5</td><td class=\"right\" data-stat=\"qbr\">52.1</td><td class=\"right\" data-stat=\"pass_sacked\">25</td><td class=\"right\" data-stat=\"pass_sacked_yds\">172</td><td class=\"right\" data-stat=\"pass_net_yds_per_att\">7.24</td><td class=\"right\" data-stat=\"pass_adj_net_yds_per_att\"><strong>7.72</strong></td><td class=\"right\" data-stat=\"pass_sacked_perc\">5.0</td><td class=\"right\" data-stat=\"comebacks\">1</td><td class=\"right\" data-stat=\"gwd\">1</td><td class=\"right\" data-stat=\"av\">15</td></tr>"
      ]
     },
     "execution_count": 282,
     "metadata": {},
     "output_type": "execute_result"
    }
   ],
   "source": [
    "stat_table[2]"
   ]
  },
  {
   "cell_type": "code",
   "execution_count": 296,
   "metadata": {},
   "outputs": [
    {
     "data": {
      "text/plain": [
       "'2016'"
      ]
     },
     "execution_count": 296,
     "metadata": {},
     "output_type": "execute_result"
    }
   ],
   "source": [
    "stat_table[1].find('a').text"
   ]
  },
  {
   "cell_type": "code",
   "execution_count": 312,
   "metadata": {},
   "outputs": [],
   "source": [
    "\n",
    "def get_stats(table):\n",
    "    stats = defaultdict(list)\n",
    "    for ele in stat_table:\n",
    "        if not ele.find('a'):\n",
    "            continue\n",
    "        year = ele.find('a').text\n",
    "        temp_stat = ele.find_all('td')\n",
    "        for num in temp_stat:\n",
    "            stats[year].append(num.text)\n",
    "    return stats"
   ]
  },
  {
   "cell_type": "code",
   "execution_count": 313,
   "metadata": {},
   "outputs": [],
   "source": [
    "stats = get_stats(stat_table)"
   ]
  },
  {
   "cell_type": "code",
   "execution_count": 316,
   "metadata": {},
   "outputs": [],
   "source": [
    "def get_headers(table):\n",
    "    '''\n",
    "    Grab stat headers from player's BS table\n",
    "    arg:\n",
    "        BS object containing players info (from scrape_page)\n",
    "    return:\n",
    "        stat labels in a list\n",
    "    '''\n",
    "    stat_header = []\n",
    "\n",
    "    stat_table = table[0].find_all('tr')\n",
    "    header_soup = stat_table[0].find_all('th')\n",
    "    for header in header_soup:\n",
    "        stat_header.append(header.text)\n",
    "    return stat_header"
   ]
  },
  {
   "cell_type": "code",
   "execution_count": 325,
   "metadata": {},
   "outputs": [],
   "source": [
    "headers = get_headers(big_table)"
   ]
  },
  {
   "cell_type": "code",
   "execution_count": 326,
   "metadata": {},
   "outputs": [
    {
     "data": {
      "text/plain": [
       "['Year',\n",
       " 'Age',\n",
       " 'Tm',\n",
       " 'Pos',\n",
       " 'No.',\n",
       " 'G',\n",
       " 'GS',\n",
       " 'QBrec',\n",
       " 'Cmp',\n",
       " 'Att',\n",
       " 'Cmp%',\n",
       " 'Yds',\n",
       " 'TD',\n",
       " 'TD%',\n",
       " 'Int',\n",
       " 'Int%',\n",
       " '1D',\n",
       " 'Lng',\n",
       " 'Y/A',\n",
       " 'AY/A',\n",
       " 'Y/C',\n",
       " 'Y/G',\n",
       " 'Rate',\n",
       " 'QBR',\n",
       " 'Sk',\n",
       " 'Yds',\n",
       " 'NY/A',\n",
       " 'ANY/A',\n",
       " 'Sk%',\n",
       " '4QC',\n",
       " 'GWD',\n",
       " 'AV']"
      ]
     },
     "execution_count": 326,
     "metadata": {},
     "output_type": "execute_result"
    }
   ],
   "source": [
    "headers"
   ]
  },
  {
   "cell_type": "code",
   "execution_count": 333,
   "metadata": {},
   "outputs": [
    {
     "data": {
      "text/plain": [
       "collections.defaultdict"
      ]
     },
     "execution_count": 333,
     "metadata": {},
     "output_type": "execute_result"
    }
   ],
   "source": [
    "type(stats)"
   ]
  },
  {
   "cell_type": "code",
   "execution_count": 336,
   "metadata": {},
   "outputs": [],
   "source": [
    "csv_file = 'Goff_test.csv'\n",
    "\n",
    "with open(csv_file, 'w') as csvfile:\n",
    "    csvfile.write(','.join(headers)+'\\n')\n",
    "    for key, value in stats.items():\n",
    "        csvfile.write(key+','+','.join(value)+'\\n')"
   ]
  },
  {
   "cell_type": "code",
   "execution_count": 337,
   "metadata": {},
   "outputs": [
    {
     "data": {
      "text/html": [
       "<div>\n",
       "<style scoped>\n",
       "    .dataframe tbody tr th:only-of-type {\n",
       "        vertical-align: middle;\n",
       "    }\n",
       "\n",
       "    .dataframe tbody tr th {\n",
       "        vertical-align: top;\n",
       "    }\n",
       "\n",
       "    .dataframe thead th {\n",
       "        text-align: right;\n",
       "    }\n",
       "</style>\n",
       "<table border=\"1\" class=\"dataframe\">\n",
       "  <thead>\n",
       "    <tr style=\"text-align: right;\">\n",
       "      <th></th>\n",
       "      <th>Year</th>\n",
       "      <th>Age</th>\n",
       "      <th>Tm</th>\n",
       "      <th>Pos</th>\n",
       "      <th>No.</th>\n",
       "      <th>G</th>\n",
       "      <th>GS</th>\n",
       "      <th>QBrec</th>\n",
       "      <th>Cmp</th>\n",
       "      <th>Att</th>\n",
       "      <th>...</th>\n",
       "      <th>Rate</th>\n",
       "      <th>QBR</th>\n",
       "      <th>Sk</th>\n",
       "      <th>Yds.1</th>\n",
       "      <th>NY/A</th>\n",
       "      <th>ANY/A</th>\n",
       "      <th>Sk%</th>\n",
       "      <th>4QC</th>\n",
       "      <th>GWD</th>\n",
       "      <th>AV</th>\n",
       "    </tr>\n",
       "  </thead>\n",
       "  <tbody>\n",
       "    <tr>\n",
       "      <th>0</th>\n",
       "      <td>2016</td>\n",
       "      <td>22</td>\n",
       "      <td>LAR</td>\n",
       "      <td>qb</td>\n",
       "      <td>16</td>\n",
       "      <td>7</td>\n",
       "      <td>7</td>\n",
       "      <td>0-7-0</td>\n",
       "      <td>112</td>\n",
       "      <td>205</td>\n",
       "      <td>...</td>\n",
       "      <td>63.6</td>\n",
       "      <td>18.9</td>\n",
       "      <td>26</td>\n",
       "      <td>222</td>\n",
       "      <td>3.75</td>\n",
       "      <td>2.82</td>\n",
       "      <td>11.3</td>\n",
       "      <td>NaN</td>\n",
       "      <td>NaN</td>\n",
       "      <td>-2</td>\n",
       "    </tr>\n",
       "    <tr>\n",
       "      <th>1</th>\n",
       "      <td>2017</td>\n",
       "      <td>23</td>\n",
       "      <td>LAR</td>\n",
       "      <td>QB</td>\n",
       "      <td>16</td>\n",
       "      <td>15</td>\n",
       "      <td>15</td>\n",
       "      <td>11-4-0</td>\n",
       "      <td>296</td>\n",
       "      <td>477</td>\n",
       "      <td>...</td>\n",
       "      <td>100.5</td>\n",
       "      <td>52.1</td>\n",
       "      <td>25</td>\n",
       "      <td>172</td>\n",
       "      <td>7.24</td>\n",
       "      <td>7.72</td>\n",
       "      <td>5.0</td>\n",
       "      <td>1.0</td>\n",
       "      <td>1.0</td>\n",
       "      <td>15</td>\n",
       "    </tr>\n",
       "    <tr>\n",
       "      <th>2</th>\n",
       "      <td>2018</td>\n",
       "      <td>24</td>\n",
       "      <td>LAR</td>\n",
       "      <td>QB</td>\n",
       "      <td>16</td>\n",
       "      <td>16</td>\n",
       "      <td>16</td>\n",
       "      <td>13-3-0</td>\n",
       "      <td>364</td>\n",
       "      <td>561</td>\n",
       "      <td>...</td>\n",
       "      <td>101.1</td>\n",
       "      <td>63.1</td>\n",
       "      <td>33</td>\n",
       "      <td>223</td>\n",
       "      <td>7.52</td>\n",
       "      <td>7.69</td>\n",
       "      <td>5.6</td>\n",
       "      <td>4.0</td>\n",
       "      <td>4.0</td>\n",
       "      <td>18</td>\n",
       "    </tr>\n",
       "    <tr>\n",
       "      <th>3</th>\n",
       "      <td>2019</td>\n",
       "      <td>25</td>\n",
       "      <td>LAR</td>\n",
       "      <td>QB</td>\n",
       "      <td>16</td>\n",
       "      <td>16</td>\n",
       "      <td>16</td>\n",
       "      <td>9-7-0</td>\n",
       "      <td>394</td>\n",
       "      <td>626</td>\n",
       "      <td>...</td>\n",
       "      <td>86.5</td>\n",
       "      <td>NaN</td>\n",
       "      <td>22</td>\n",
       "      <td>170</td>\n",
       "      <td>6.90</td>\n",
       "      <td>6.46</td>\n",
       "      <td>3.4</td>\n",
       "      <td>1.0</td>\n",
       "      <td>2.0</td>\n",
       "      <td>12</td>\n",
       "    </tr>\n",
       "  </tbody>\n",
       "</table>\n",
       "<p>4 rows × 32 columns</p>\n",
       "</div>"
      ],
      "text/plain": [
       "   Year  Age   Tm Pos  No.   G  GS   QBrec  Cmp  Att  ...   Rate   QBR  Sk  \\\n",
       "0  2016   22  LAR  qb   16   7   7   0-7-0  112  205  ...   63.6  18.9  26   \n",
       "1  2017   23  LAR  QB   16  15  15  11-4-0  296  477  ...  100.5  52.1  25   \n",
       "2  2018   24  LAR  QB   16  16  16  13-3-0  364  561  ...  101.1  63.1  33   \n",
       "3  2019   25  LAR  QB   16  16  16   9-7-0  394  626  ...   86.5   NaN  22   \n",
       "\n",
       "   Yds.1  NY/A  ANY/A   Sk%  4QC  GWD  AV  \n",
       "0    222  3.75   2.82  11.3  NaN  NaN  -2  \n",
       "1    172  7.24   7.72   5.0  1.0  1.0  15  \n",
       "2    223  7.52   7.69   5.6  4.0  4.0  18  \n",
       "3    170  6.90   6.46   3.4  1.0  2.0  12  \n",
       "\n",
       "[4 rows x 32 columns]"
      ]
     },
     "execution_count": 337,
     "metadata": {},
     "output_type": "execute_result"
    }
   ],
   "source": [
    "pd.read_csv('Goff_test.csv')"
   ]
  },
  {
   "cell_type": "code",
   "execution_count": null,
   "metadata": {},
   "outputs": [],
   "source": []
  }
 ],
 "metadata": {
  "kernelspec": {
   "display_name": "Python [conda env:metis] *",
   "language": "python",
   "name": "conda-env-metis-py"
  },
  "language_info": {
   "codemirror_mode": {
    "name": "ipython",
    "version": 3
   },
   "file_extension": ".py",
   "mimetype": "text/x-python",
   "name": "python",
   "nbconvert_exporter": "python",
   "pygments_lexer": "ipython3",
   "version": "3.8.3"
  }
 },
 "nbformat": 4,
 "nbformat_minor": 4
}
